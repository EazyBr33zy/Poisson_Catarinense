{
 "cells": [
  {
   "cell_type": "code",
   "execution_count": 168,
   "metadata": {},
   "outputs": [],
   "source": [
    "import pandas as pd\n",
    "import pickle\n",
    "from scipy.stats import poisson"
   ]
  },
  {
   "cell_type": "code",
   "execution_count": 169,
   "metadata": {},
   "outputs": [],
   "source": [
    "df = pd.read_excel(\"Catarinense_2023.xlsx\")"
   ]
  },
  {
   "cell_type": "code",
   "execution_count": 170,
   "metadata": {},
   "outputs": [],
   "source": [
    "df = df[['Home','Away','Goals_H','Goals_A',\"Season\"]]\n",
    "df.columns = ['Home','Away','Goals_H','Goals_A', \"Season\"]"
   ]
  },
  {
   "cell_type": "code",
   "execution_count": 171,
   "metadata": {},
   "outputs": [
    {
     "data": {
      "text/html": [
       "<div>\n",
       "<style scoped>\n",
       "    .dataframe tbody tr th:only-of-type {\n",
       "        vertical-align: middle;\n",
       "    }\n",
       "\n",
       "    .dataframe tbody tr th {\n",
       "        vertical-align: top;\n",
       "    }\n",
       "\n",
       "    .dataframe thead th {\n",
       "        text-align: right;\n",
       "    }\n",
       "</style>\n",
       "<table border=\"1\" class=\"dataframe\">\n",
       "  <thead>\n",
       "    <tr style=\"text-align: right;\">\n",
       "      <th></th>\n",
       "      <th>Home</th>\n",
       "      <th>Away</th>\n",
       "      <th>Goals_H</th>\n",
       "      <th>Goals_A</th>\n",
       "      <th>Season</th>\n",
       "    </tr>\n",
       "  </thead>\n",
       "  <tbody>\n",
       "    <tr>\n",
       "      <th>0</th>\n",
       "      <td>Figueirense</td>\n",
       "      <td>Atletico Catarinense</td>\n",
       "      <td>1</td>\n",
       "      <td>0</td>\n",
       "      <td>2023</td>\n",
       "    </tr>\n",
       "    <tr>\n",
       "      <th>1</th>\n",
       "      <td>Chapecoense</td>\n",
       "      <td>Avai</td>\n",
       "      <td>2</td>\n",
       "      <td>0</td>\n",
       "      <td>2023</td>\n",
       "    </tr>\n",
       "    <tr>\n",
       "      <th>2</th>\n",
       "      <td>Marcilio Dias</td>\n",
       "      <td>Hercilio Luz</td>\n",
       "      <td>0</td>\n",
       "      <td>2</td>\n",
       "      <td>2023</td>\n",
       "    </tr>\n",
       "    <tr>\n",
       "      <th>3</th>\n",
       "      <td>Criciuma</td>\n",
       "      <td>Concordia</td>\n",
       "      <td>0</td>\n",
       "      <td>0</td>\n",
       "      <td>2023</td>\n",
       "    </tr>\n",
       "    <tr>\n",
       "      <th>4</th>\n",
       "      <td>Camboriu</td>\n",
       "      <td>Joinville</td>\n",
       "      <td>0</td>\n",
       "      <td>0</td>\n",
       "      <td>2023</td>\n",
       "    </tr>\n",
       "    <tr>\n",
       "      <th>...</th>\n",
       "      <td>...</td>\n",
       "      <td>...</td>\n",
       "      <td>...</td>\n",
       "      <td>...</td>\n",
       "      <td>...</td>\n",
       "    </tr>\n",
       "    <tr>\n",
       "      <th>74</th>\n",
       "      <td>Criciuma</td>\n",
       "      <td>Hercilio Luz</td>\n",
       "      <td>2</td>\n",
       "      <td>0</td>\n",
       "      <td>2023</td>\n",
       "    </tr>\n",
       "    <tr>\n",
       "      <th>75</th>\n",
       "      <td>Barra FC</td>\n",
       "      <td>Brusque</td>\n",
       "      <td>1</td>\n",
       "      <td>2</td>\n",
       "      <td>2023</td>\n",
       "    </tr>\n",
       "    <tr>\n",
       "      <th>76</th>\n",
       "      <td>Brusque</td>\n",
       "      <td>Barra FC</td>\n",
       "      <td>3</td>\n",
       "      <td>1</td>\n",
       "      <td>2023</td>\n",
       "    </tr>\n",
       "    <tr>\n",
       "      <th>77</th>\n",
       "      <td>Hercilio Luz</td>\n",
       "      <td>Criciuma</td>\n",
       "      <td>2</td>\n",
       "      <td>1</td>\n",
       "      <td>2023</td>\n",
       "    </tr>\n",
       "    <tr>\n",
       "      <th>78</th>\n",
       "      <td>Criciuma</td>\n",
       "      <td>Brusque</td>\n",
       "      <td>1</td>\n",
       "      <td>0</td>\n",
       "      <td>2023</td>\n",
       "    </tr>\n",
       "  </tbody>\n",
       "</table>\n",
       "<p>79 rows × 5 columns</p>\n",
       "</div>"
      ],
      "text/plain": [
       "             Home                  Away  Goals_H  Goals_A  Season\n",
       "0     Figueirense  Atletico Catarinense        1        0    2023\n",
       "1     Chapecoense                  Avai        2        0    2023\n",
       "2   Marcilio Dias          Hercilio Luz        0        2    2023\n",
       "3        Criciuma             Concordia        0        0    2023\n",
       "4        Camboriu             Joinville        0        0    2023\n",
       "..            ...                   ...      ...      ...     ...\n",
       "74       Criciuma          Hercilio Luz        2        0    2023\n",
       "75       Barra FC               Brusque        1        2    2023\n",
       "76       Brusque               Barra FC        3        1    2023\n",
       "77   Hercilio Luz              Criciuma        2        1    2023\n",
       "78       Criciuma               Brusque        1        0    2023\n",
       "\n",
       "[79 rows x 5 columns]"
      ]
     },
     "execution_count": 171,
     "metadata": {},
     "output_type": "execute_result"
    }
   ],
   "source": [
    "df"
   ]
  },
  {
   "cell_type": "code",
   "execution_count": 172,
   "metadata": {},
   "outputs": [],
   "source": [
    "# Ajustando o Índice do DataFrame\n",
    "df.reset_index(inplace=True, drop=True)\n",
    "df.index = df.index.set_names(['Nº'])\n",
    "df = df.rename(index=lambda x: x + 1)"
   ]
  },
  {
   "cell_type": "code",
   "execution_count": 173,
   "metadata": {},
   "outputs": [
    {
     "name": "stdout",
     "output_type": "stream",
     "text": [
      "Média de Gols Marcados em Casa na Liga: 1.14\n"
     ]
    }
   ],
   "source": [
    "# Média de Gols Marcados em Casa na Liga\n",
    "Gols_Total_Home = df['Goals_H'].sum()\n",
    "Media_Gols_Total_Home = (Gols_Total_Home/df.shape[0]).round(2)\n",
    "print(\"Média de Gols Marcados em Casa na Liga: \" +str(Media_Gols_Total_Home))"
   ]
  },
  {
   "cell_type": "code",
   "execution_count": 174,
   "metadata": {},
   "outputs": [
    {
     "name": "stdout",
     "output_type": "stream",
     "text": [
      "Média de Gols Marcados Fora de Casa na Liga: 0.68\n"
     ]
    }
   ],
   "source": [
    "# Média de Gols Marcados fora de Casa na Liga\n",
    "Gols_Total_Away = df['Goals_A'].sum()\n",
    "Media_Gols_Total_Away = (Gols_Total_Away/df.shape[0]).round(2)\n",
    "print(\"Média de Gols Marcados Fora de Casa na Liga: \" +str(Media_Gols_Total_Away))"
   ]
  },
  {
   "cell_type": "code",
   "execution_count": 175,
   "metadata": {},
   "outputs": [
    {
     "name": "stdout",
     "output_type": "stream",
     "text": [
      "Media de Gols Marcados pelo Mandante: 1.57\n"
     ]
    }
   ],
   "source": [
    "# Média de Gols Marcados pela Equipe da Casa em Casa\n",
    "\n",
    "home_team = df.loc[df['Home'] == \"Brusque\"]\n",
    "\n",
    "Gols_Marcados_Home = home_team['Goals_H'].sum()\n",
    "Media_Gols_Marcados_Home = (Gols_Marcados_Home/len(home_team)).round(2)\n",
    "print(\"Media de Gols Marcados pelo Mandante: \" + str(Media_Gols_Marcados_Home))"
   ]
  },
  {
   "cell_type": "code",
   "execution_count": 176,
   "metadata": {},
   "outputs": [
    {
     "name": "stdout",
     "output_type": "stream",
     "text": [
      "Media de Gols Sofridos pelo Mandante: 0.71\n"
     ]
    }
   ],
   "source": [
    "# Média de Gols Sofridos pela Equipe da Casa em Casa\n",
    "home_team = df.loc[df['Home'] == \"Brusque\"]\n",
    "\n",
    "Gols_Sofridos_Home = home_team['Goals_A'].sum()\n",
    "Media_Gols_Sofridos_Home = (Gols_Sofridos_Home/len(home_team)).round(2)\n",
    "print(\"Media de Gols Sofridos pelo Mandante: \" + str(Media_Gols_Sofridos_Home))"
   ]
  },
  {
   "cell_type": "code",
   "execution_count": 177,
   "metadata": {},
   "outputs": [
    {
     "name": "stdout",
     "output_type": "stream",
     "text": [
      "Media de Gols Marcados pelo Visitante: 1.12\n"
     ]
    }
   ],
   "source": [
    "# Média de Gols Marcados Fora de Casa pelo Visitante\n",
    "away_team = df.loc[df['Away'] == \"Criciuma\"]\n",
    "    \n",
    "Gols_Marcados_Away = away_team['Goals_A'].sum()\n",
    "Media_Gols_Marcados_Away = (Gols_Marcados_Away/len(away_team)).round(2)\n",
    "print(\"Media de Gols Marcados pelo Visitante: \" + str(Media_Gols_Marcados_Away))"
   ]
  },
  {
   "cell_type": "code",
   "execution_count": 178,
   "metadata": {},
   "outputs": [
    {
     "name": "stdout",
     "output_type": "stream",
     "text": [
      "Media de Gols Sofridos pelo Visitante: 0.75\n"
     ]
    }
   ],
   "source": [
    "# Média de Gols Sofridos Fora de Casa pelo Visitante\n",
    "away_team = df.loc[df['Away'] == \"Criciuma\"]\n",
    "    \n",
    "Gols_Sofridos_Away = away_team['Goals_H'].sum()\n",
    "Media_Gols_Sofridos_Away = (Gols_Sofridos_Away/len(away_team)).round(2)\n",
    "print(\"Media de Gols Sofridos pelo Visitante: \" + str(Media_Gols_Sofridos_Away))"
   ]
  },
  {
   "cell_type": "code",
   "execution_count": 179,
   "metadata": {},
   "outputs": [
    {
     "name": "stdout",
     "output_type": "stream",
     "text": [
      "Força de Ataque do Time da Casa: 1.38\n"
     ]
    }
   ],
   "source": [
    "# Força de Ataque do Time da Casa\n",
    "Power_Attacking_Home = (Media_Gols_Marcados_Home / Media_Gols_Total_Home).round(2)\n",
    "print(\"Força de Ataque do Time da Casa: \" + str(Power_Attacking_Home))"
   ]
  },
  {
   "cell_type": "code",
   "execution_count": 180,
   "metadata": {},
   "outputs": [
    {
     "name": "stdout",
     "output_type": "stream",
     "text": [
      "Força da Defesa do Time da Casa: 1.04\n"
     ]
    }
   ],
   "source": [
    "# Força da Defesa do Time da Casa\n",
    "Power_Defensive_Home = (Media_Gols_Sofridos_Home / Media_Gols_Total_Away).round(2)\n",
    "print(\"Força da Defesa do Time da Casa: \" + str(Power_Defensive_Home))"
   ]
  },
  {
   "cell_type": "code",
   "execution_count": 181,
   "metadata": {},
   "outputs": [
    {
     "name": "stdout",
     "output_type": "stream",
     "text": [
      "Força de Ataque do Time Visitante: 1.65\n"
     ]
    }
   ],
   "source": [
    "#  Força do Ataque do Time Visitante\n",
    "Power_Attacking_Away = (Media_Gols_Marcados_Away / Media_Gols_Total_Away).round(2)\n",
    "print(\"Força de Ataque do Time Visitante: \" + str(Power_Attacking_Away))"
   ]
  },
  {
   "cell_type": "code",
   "execution_count": 182,
   "metadata": {},
   "outputs": [
    {
     "name": "stdout",
     "output_type": "stream",
     "text": [
      "Força da Defesa do Time Visitante: 0.66\n"
     ]
    }
   ],
   "source": [
    "# Força da Defesa do Time Visitante\n",
    "\n",
    "Power_Defensive_Away = (Media_Gols_Sofridos_Away / Media_Gols_Total_Home).round(2)\n",
    "print(\"Força da Defesa do Time Visitante: \" + str(Power_Defensive_Away))"
   ]
  },
  {
   "cell_type": "code",
   "execution_count": 183,
   "metadata": {},
   "outputs": [
    {
     "name": "stdout",
     "output_type": "stream",
     "text": [
      "Expectativa de Gols para o Mandante: 1.04\n"
     ]
    }
   ],
   "source": [
    "# Expectativa de Gols do Time da Casa\n",
    "Exp_Goals_Home = (Power_Attacking_Home * Power_Defensive_Away * Media_Gols_Total_Home).round(2)\n",
    "print(\"Expectativa de Gols para o Mandante: \"+ str(Exp_Goals_Home))"
   ]
  },
  {
   "cell_type": "code",
   "execution_count": 184,
   "metadata": {},
   "outputs": [
    {
     "name": "stdout",
     "output_type": "stream",
     "text": [
      "Expectativa de Gols para o Visitante: 1.17\n"
     ]
    }
   ],
   "source": [
    "#Expectativa de Gols do Time Visitante\n",
    "Exp_Goals_Away = (Power_Attacking_Away * Power_Defensive_Home * Media_Gols_Total_Away).round(2)\n",
    "print(\"Expectativa de Gols para o Visitante: \"+ str(Exp_Goals_Away))"
   ]
  },
  {
   "cell_type": "code",
   "execution_count": 185,
   "metadata": {},
   "outputs": [],
   "source": [
    "def xg_goals(df, home, away):\n",
    "    \n",
    "    Gols_Total_Home = df['Goals_H'].sum()\n",
    "    Media_Gols_Total_Home = (Gols_Total_Home/df.shape[0]).round(2)\n",
    "    print(\"Média de Gols Marcados em Casa na Liga: \" +str(Media_Gols_Total_Home))\n",
    "    \n",
    "    Gols_Total_Away = df['Goals_A'].sum()\n",
    "    Media_Gols_Total_Away = (Gols_Total_Away/df.shape[0]).round(2)\n",
    "    print(\"Média de Gols Marcados Fora de Casa na Liga: \" +str(Media_Gols_Total_Away))\n",
    "    \n",
    "    home_team = df.loc[df['Home'] == home]\n",
    "    away_team = df.loc[df['Away'] == away]\n",
    "    \n",
    "    Gols_Marcados_Home = home_team['Goals_H'].sum()\n",
    "    Media_Gols_Marcados_Home = (Gols_Marcados_Home/len(home_team)).round(2)\n",
    "    print(\"Media de Gols Marcados pelo Mandante em Casa: \" + str(Media_Gols_Marcados_Home))\n",
    "    \n",
    "    Gols_Sofridos_Home = home_team['Goals_A'].sum()\n",
    "    Media_Gols_Sofridos_Home = (Gols_Sofridos_Home/len(home_team)).round(2)\n",
    "    print(\"Media de Gols Sofridos pelo Mandante em Casa: \" + str(Media_Gols_Sofridos_Home))\n",
    "    \n",
    "    Gols_Marcados_Away = away_team['Goals_A'].sum()\n",
    "    Media_Gols_Marcados_Away = (Gols_Marcados_Away/len(away_team)).round(2)\n",
    "    print(\"Media de Gols Marcados pelo Visitante Fora de Casa: \" + str(Media_Gols_Marcados_Away))\n",
    "    \n",
    "    Gols_Sofridos_Away = away_team['Goals_H'].sum()\n",
    "    Media_Gols_Sofridos_Away = (Gols_Sofridos_Away/len(away_team)).round(2)\n",
    "    print(\"Media de Gols Sofridos pelo Visitante Fora de Casa: \" + str(Media_Gols_Sofridos_Away))\n",
    "    \n",
    "    Power_Attacking_Home = (Media_Gols_Marcados_Home/ Media_Gols_Total_Home).round(2)\n",
    "    print(\"Força de Ataque do Time da Casa: \" + str(Power_Attacking_Home))\n",
    "    \n",
    "    Power_Defensive_Home = (Media_Gols_Sofridos_Home/ Media_Gols_Total_Away).round(2)\n",
    "    print(\"Força da Defesa do Time da Casa: \" + str(Power_Defensive_Home))\n",
    "    \n",
    "    Power_Attacking_Away = (Media_Gols_Marcados_Away/ Media_Gols_Total_Away).round(2)\n",
    "    print(\"Força de Ataque do Time Visitante: \" + str(Power_Attacking_Away))\n",
    "    \n",
    "    Power_Defensive_Away = (Media_Gols_Sofridos_Away/ Media_Gols_Total_Home).round(2)\n",
    "    print(\"Força da Defesa do Time Visitante: \" + str(Power_Defensive_Away))\n",
    "    \n",
    "    Exp_Goals_Home = (Power_Attacking_Home * Power_Defensive_Away * Media_Gols_Total_Home).round(2)\n",
    "    print(\"Expectativa de Gols para o Mandante: \"+ str(Exp_Goals_Home))\n",
    "    \n",
    "    Exp_Goals_Away = (Power_Attacking_Away * Power_Defensive_Home * Media_Gols_Total_Away).round(2)\n",
    "    print(\"Expectativa de Gols para o Visitante: \"+ str(Exp_Goals_Away))\n",
    "\n",
    "    print('')\n",
    "    \n",
    "    return Exp_Goals_Home, Exp_Goals_Away"
   ]
  },
  {
   "cell_type": "code",
   "execution_count": 201,
   "metadata": {},
   "outputs": [
    {
     "name": "stdout",
     "output_type": "stream",
     "text": [
      "Média de Gols Marcados em Casa na Liga: 1.14\n",
      "Média de Gols Marcados Fora de Casa na Liga: 0.68\n",
      "Media de Gols Marcados pelo Mandante em Casa: 1.57\n",
      "Media de Gols Sofridos pelo Mandante em Casa: 0.71\n",
      "Media de Gols Marcados pelo Visitante Fora de Casa: 1.12\n",
      "Media de Gols Sofridos pelo Visitante Fora de Casa: 0.75\n",
      "Força de Ataque do Time da Casa: 1.38\n",
      "Força da Defesa do Time da Casa: 1.04\n",
      "Força de Ataque do Time Visitante: 1.65\n",
      "Força da Defesa do Time Visitante: 0.66\n",
      "Expectativa de Gols para o Mandante: 1.04\n",
      "Expectativa de Gols para o Visitante: 1.17\n",
      "\n"
     ]
    },
    {
     "data": {
      "text/plain": [
       "(1.04, 1.17)"
      ]
     },
     "execution_count": 201,
     "metadata": {},
     "output_type": "execute_result"
    }
   ],
   "source": [
    "xg_goals(df,'Brusque', \"Criciuma\")"
   ]
  },
  {
   "cell_type": "code",
   "execution_count": 187,
   "metadata": {},
   "outputs": [
    {
     "name": "stdout",
     "output_type": "stream",
     "text": [
      "Média de Gols Marcados em Casa na Liga: 1.14\n",
      "Média de Gols Marcados Fora de Casa na Liga: 0.68\n",
      "Media de Gols Marcados pelo Mandante em Casa: 1.57\n",
      "Media de Gols Sofridos pelo Mandante em Casa: 0.71\n",
      "Media de Gols Marcados pelo Visitante Fora de Casa: 1.12\n",
      "Media de Gols Sofridos pelo Visitante Fora de Casa: 0.75\n",
      "Força de Ataque do Time da Casa: 1.38\n",
      "Força da Defesa do Time da Casa: 1.04\n",
      "Força de Ataque do Time Visitante: 1.65\n",
      "Força da Defesa do Time Visitante: 0.66\n",
      "Expectativa de Gols para o Mandante: 1.04\n",
      "Expectativa de Gols para o Visitante: 1.17\n",
      "\n"
     ]
    }
   ],
   "source": [
    "home_goals, away_goals = xg_goals(df,\"Brusque\",'Criciuma')"
   ]
  },
  {
   "cell_type": "code",
   "execution_count": 188,
   "metadata": {},
   "outputs": [],
   "source": [
    "from numpy import random\n",
    "home_poisson = random.poisson(lam=home_goals, size=100000)\n",
    "away_poisson = random.poisson(lam=away_goals, size=100000)"
   ]
  },
  {
   "cell_type": "code",
   "execution_count": 189,
   "metadata": {},
   "outputs": [],
   "source": [
    "def home_team_goal_prob(n):\n",
    "    goals = 0\n",
    "    for i in range(0, 10000):\n",
    "        if home_poisson[i] == n:\n",
    "            goals = goals + 1\n",
    "            prob = goals / 10000     \n",
    "    return prob, goals"
   ]
  },
  {
   "cell_type": "code",
   "execution_count": 190,
   "metadata": {},
   "outputs": [],
   "source": [
    "def away_team_goal_prob(n):\n",
    "    goals = 0\n",
    "    for i in range(0, 10000):\n",
    "        if away_poisson[i] == n:\n",
    "            goals = goals + 1\n",
    "            prob = goals / 10000     \n",
    "    return prob, goals"
   ]
  },
  {
   "cell_type": "code",
   "execution_count": 191,
   "metadata": {},
   "outputs": [
    {
     "name": "stdout",
     "output_type": "stream",
     "text": [
      "0.3642 3642\n",
      "0.3591 3591\n",
      "0.191 1910\n",
      "0.0637 637\n",
      "0.0184 184\n",
      "0.0184 184\n"
     ]
    }
   ],
   "source": [
    "home_0, g = home_team_goal_prob(0)\n",
    "print(home_0, g)\n",
    "\n",
    "home_1, g = home_team_goal_prob(1)\n",
    "print(home_1, g)\n",
    "\n",
    "home_2, g = home_team_goal_prob(2)\n",
    "print(home_2, g)\n",
    "\n",
    "home_3, g = home_team_goal_prob(3)\n",
    "print(home_3, g)\n",
    "\n",
    "home_4, g = home_team_goal_prob(4)\n",
    "print(home_4, g)\n",
    "\n",
    "home_5, g = home_team_goal_prob(4)\n",
    "print(home_5, g)"
   ]
  },
  {
   "cell_type": "code",
   "execution_count": 192,
   "metadata": {},
   "outputs": [
    {
     "name": "stdout",
     "output_type": "stream",
     "text": [
      "0.3076 3076\n",
      "0.364 3640\n",
      "0.2082 2082\n",
      "0.0868 868\n",
      "0.0265 265\n",
      "0.0265 265\n"
     ]
    }
   ],
   "source": [
    "away_0, g = away_team_goal_prob(0)\n",
    "print(away_0, g)\n",
    "\n",
    "away_1, g = away_team_goal_prob(1)\n",
    "print(away_1, g)\n",
    "\n",
    "away_2, g = away_team_goal_prob(2)\n",
    "print(away_2, g)\n",
    "\n",
    "away_3, g = away_team_goal_prob(3)\n",
    "print(away_3, g)\n",
    "\n",
    "away_4, g = away_team_goal_prob(4)\n",
    "print(away_4, g)\n",
    "\n",
    "away_5, g = away_team_goal_prob(4)\n",
    "print(away_5, g)"
   ]
  },
  {
   "cell_type": "code",
   "execution_count": 193,
   "metadata": {},
   "outputs": [
    {
     "data": {
      "text/html": [
       "<div>\n",
       "<style scoped>\n",
       "    .dataframe tbody tr th:only-of-type {\n",
       "        vertical-align: middle;\n",
       "    }\n",
       "\n",
       "    .dataframe tbody tr th {\n",
       "        vertical-align: top;\n",
       "    }\n",
       "\n",
       "    .dataframe thead th {\n",
       "        text-align: right;\n",
       "    }\n",
       "</style>\n",
       "<table border=\"1\" class=\"dataframe\">\n",
       "  <thead>\n",
       "    <tr style=\"text-align: right;\">\n",
       "      <th></th>\n",
       "      <th>Probs</th>\n",
       "    </tr>\n",
       "  </thead>\n",
       "  <tbody>\n",
       "    <tr>\n",
       "      <th>0</th>\n",
       "      <td>0.3642</td>\n",
       "    </tr>\n",
       "    <tr>\n",
       "      <th>1</th>\n",
       "      <td>0.3591</td>\n",
       "    </tr>\n",
       "    <tr>\n",
       "      <th>2</th>\n",
       "      <td>0.1910</td>\n",
       "    </tr>\n",
       "    <tr>\n",
       "      <th>3</th>\n",
       "      <td>0.0637</td>\n",
       "    </tr>\n",
       "    <tr>\n",
       "      <th>4</th>\n",
       "      <td>0.0184</td>\n",
       "    </tr>\n",
       "    <tr>\n",
       "      <th>5</th>\n",
       "      <td>0.0184</td>\n",
       "    </tr>\n",
       "  </tbody>\n",
       "</table>\n",
       "</div>"
      ],
      "text/plain": [
       "    Probs\n",
       "0  0.3642\n",
       "1  0.3591\n",
       "2  0.1910\n",
       "3  0.0637\n",
       "4  0.0184\n",
       "5  0.0184"
      ]
     },
     "execution_count": 193,
     "metadata": {},
     "output_type": "execute_result"
    }
   ],
   "source": [
    "home_chance = [home_0, home_1, home_2, home_3, home_4, home_5]\n",
    "home_chance_frame = pd.DataFrame(home_chance, columns=['Probs'])\n",
    "home_chance_frame = home_chance_frame\n",
    "home_chance_frame"
   ]
  },
  {
   "cell_type": "code",
   "execution_count": 194,
   "metadata": {},
   "outputs": [
    {
     "data": {
      "text/html": [
       "<div>\n",
       "<style scoped>\n",
       "    .dataframe tbody tr th:only-of-type {\n",
       "        vertical-align: middle;\n",
       "    }\n",
       "\n",
       "    .dataframe tbody tr th {\n",
       "        vertical-align: top;\n",
       "    }\n",
       "\n",
       "    .dataframe thead th {\n",
       "        text-align: right;\n",
       "    }\n",
       "</style>\n",
       "<table border=\"1\" class=\"dataframe\">\n",
       "  <thead>\n",
       "    <tr style=\"text-align: right;\">\n",
       "      <th></th>\n",
       "      <th>Probs</th>\n",
       "    </tr>\n",
       "  </thead>\n",
       "  <tbody>\n",
       "    <tr>\n",
       "      <th>0</th>\n",
       "      <td>0.3076</td>\n",
       "    </tr>\n",
       "    <tr>\n",
       "      <th>1</th>\n",
       "      <td>0.3640</td>\n",
       "    </tr>\n",
       "    <tr>\n",
       "      <th>2</th>\n",
       "      <td>0.2082</td>\n",
       "    </tr>\n",
       "    <tr>\n",
       "      <th>3</th>\n",
       "      <td>0.0868</td>\n",
       "    </tr>\n",
       "    <tr>\n",
       "      <th>4</th>\n",
       "      <td>0.0265</td>\n",
       "    </tr>\n",
       "    <tr>\n",
       "      <th>5</th>\n",
       "      <td>0.0265</td>\n",
       "    </tr>\n",
       "  </tbody>\n",
       "</table>\n",
       "</div>"
      ],
      "text/plain": [
       "    Probs\n",
       "0  0.3076\n",
       "1  0.3640\n",
       "2  0.2082\n",
       "3  0.0868\n",
       "4  0.0265\n",
       "5  0.0265"
      ]
     },
     "execution_count": 194,
     "metadata": {},
     "output_type": "execute_result"
    }
   ],
   "source": [
    "away_chance = [away_0, away_1, away_2, away_3, away_4,away_5]\n",
    "away_chance_frame = pd.DataFrame(away_chance, columns=['Probs'])\n",
    "away_chance_frame = away_chance_frame\n",
    "away_chance_frame"
   ]
  },
  {
   "cell_type": "code",
   "execution_count": 195,
   "metadata": {},
   "outputs": [
    {
     "data": {
      "text/html": [
       "<div>\n",
       "<style scoped>\n",
       "    .dataframe tbody tr th:only-of-type {\n",
       "        vertical-align: middle;\n",
       "    }\n",
       "\n",
       "    .dataframe tbody tr th {\n",
       "        vertical-align: top;\n",
       "    }\n",
       "\n",
       "    .dataframe thead th {\n",
       "        text-align: right;\n",
       "    }\n",
       "</style>\n",
       "<table border=\"1\" class=\"dataframe\">\n",
       "  <thead>\n",
       "    <tr style=\"text-align: right;\">\n",
       "      <th></th>\n",
       "      <th>0</th>\n",
       "      <th>1</th>\n",
       "      <th>2</th>\n",
       "      <th>3</th>\n",
       "      <th>4</th>\n",
       "      <th>5</th>\n",
       "    </tr>\n",
       "  </thead>\n",
       "  <tbody>\n",
       "    <tr>\n",
       "      <th>0</th>\n",
       "      <td>0.112</td>\n",
       "      <td>0.133</td>\n",
       "      <td>0.076</td>\n",
       "      <td>0.032</td>\n",
       "      <td>0.010</td>\n",
       "      <td>0.010</td>\n",
       "    </tr>\n",
       "    <tr>\n",
       "      <th>1</th>\n",
       "      <td>0.110</td>\n",
       "      <td>0.131</td>\n",
       "      <td>0.075</td>\n",
       "      <td>0.031</td>\n",
       "      <td>0.010</td>\n",
       "      <td>0.010</td>\n",
       "    </tr>\n",
       "    <tr>\n",
       "      <th>2</th>\n",
       "      <td>0.059</td>\n",
       "      <td>0.070</td>\n",
       "      <td>0.040</td>\n",
       "      <td>0.017</td>\n",
       "      <td>0.005</td>\n",
       "      <td>0.005</td>\n",
       "    </tr>\n",
       "    <tr>\n",
       "      <th>3</th>\n",
       "      <td>0.020</td>\n",
       "      <td>0.023</td>\n",
       "      <td>0.013</td>\n",
       "      <td>0.006</td>\n",
       "      <td>0.002</td>\n",
       "      <td>0.002</td>\n",
       "    </tr>\n",
       "    <tr>\n",
       "      <th>4</th>\n",
       "      <td>0.006</td>\n",
       "      <td>0.007</td>\n",
       "      <td>0.004</td>\n",
       "      <td>0.002</td>\n",
       "      <td>0.000</td>\n",
       "      <td>0.000</td>\n",
       "    </tr>\n",
       "    <tr>\n",
       "      <th>5</th>\n",
       "      <td>0.006</td>\n",
       "      <td>0.007</td>\n",
       "      <td>0.004</td>\n",
       "      <td>0.002</td>\n",
       "      <td>0.000</td>\n",
       "      <td>0.000</td>\n",
       "    </tr>\n",
       "  </tbody>\n",
       "</table>\n",
       "</div>"
      ],
      "text/plain": [
       "       0      1      2      3      4      5\n",
       "0  0.112  0.133  0.076  0.032  0.010  0.010\n",
       "1  0.110  0.131  0.075  0.031  0.010  0.010\n",
       "2  0.059  0.070  0.040  0.017  0.005  0.005\n",
       "3  0.020  0.023  0.013  0.006  0.002  0.002\n",
       "4  0.006  0.007  0.004  0.002  0.000  0.000\n",
       "5  0.006  0.007  0.004  0.002  0.000  0.000"
      ]
     },
     "execution_count": 195,
     "metadata": {},
     "output_type": "execute_result"
    }
   ],
   "source": [
    "df_cross = home_chance_frame.dot(away_chance_frame.T)\n",
    "df_cross = df_cross.round(3)\n",
    "df_cross"
   ]
  },
  {
   "cell_type": "code",
   "execution_count": 196,
   "metadata": {},
   "outputs": [],
   "source": [
    "def printDiagonalSums(mat, n):\n",
    " \n",
    "    principal = 0\n",
    "    secondary = 0;\n",
    "    for i in range(0, n):\n",
    "        for j in range(0, n):\n",
    " \n",
    "            # Condition for principal diagonal\n",
    "            if (i == j):\n",
    "                principal += mat[i][j]\n",
    " \n",
    "            # Condition for secondary diagonal\n",
    "            if ((i + j) == (n - 1)):\n",
    "                secondary += mat[i][j]\n",
    "         \n",
    "    return principal"
   ]
  },
  {
   "cell_type": "code",
   "execution_count": 197,
   "metadata": {},
   "outputs": [
    {
     "name": "stdout",
     "output_type": "stream",
     "text": [
      "0.289\n"
     ]
    }
   ],
   "source": [
    "import numpy as np\n",
    "principal = printDiagonalSums(df_cross, 5)\n",
    "df_cross_up = df_cross.where(np.triu(np.ones(df_cross.shape)).astype(bool))\n",
    "print(principal)"
   ]
  },
  {
   "cell_type": "code",
   "execution_count": 198,
   "metadata": {},
   "outputs": [
    {
     "name": "stdout",
     "output_type": "stream",
     "text": [
      "Prob Home Win: 33.300000000000004\n",
      "Prob Draw Win: 28.9\n",
      "Prob Away Win: 41.8\n"
     ]
    }
   ],
   "source": [
    "draw = principal\n",
    "\n",
    "home_team_win = df_cross.sum().sum() - df_cross_up.sum().sum()\n",
    "away_team_win = df_cross_up.sum().sum() - principal\n",
    "\n",
    "print(\"Prob Home Win: \" + str(np.round(home_team_win, 3)*100))\n",
    "print(\"Prob Draw Win: \" + str(np.round(draw, 3)*100))\n",
    "print(\"Prob Away Win: \" + str(np.round(away_team_win, 3)*100))"
   ]
  },
  {
   "cell_type": "code",
   "execution_count": 199,
   "metadata": {},
   "outputs": [
    {
     "name": "stdout",
     "output_type": "stream",
     "text": [
      "Odd Home: 3.0\n",
      "Odd Draw: 3.46\n",
      "Odd Away: 2.39\n"
     ]
    }
   ],
   "source": [
    "draw_odds = 1 / draw\n",
    "home_team_win_odds = 1 / home_team_win\n",
    "away_team_win_odds = 1 / away_team_win\n",
    "\n",
    "print(\"Odd Home: \" + str(np.round(home_team_win_odds, 2)))\n",
    "print(\"Odd Draw: \" + str(np.round(draw_odds, 2)))\n",
    "print(\"Odd Away: \" + str(np.round(away_team_win_odds, 2)))"
   ]
  },
  {
   "cell_type": "code",
   "execution_count": 200,
   "metadata": {},
   "outputs": [
    {
     "name": "stdout",
     "output_type": "stream",
     "text": [
      "Prob Home Bookie: 40.0\n",
      "Prob Draw Bookie: 33.33\n",
      "Prob Away Bookie: 34.0\n"
     ]
    }
   ],
   "source": [
    "bookie_home_team_win_odds = 2.50\n",
    "bookie_draw = 3.00\n",
    "bookie_away_team_win_odds = 2.90\n",
    "\n",
    "Bookie_home_win = 1/ bookie_home_team_win_odds\n",
    "Bookie_draw = 1/ bookie_draw\n",
    "Bookie_away_win = 1/ bookie_away_team_win_odds\n",
    "\n",
    "print(\"Prob Home Bookie: \" + str(np.round(Bookie_home_win * 100, 2)))\n",
    "print(\"Prob Draw Bookie: \" + str(np.round(Bookie_draw * 100, 2)))\n",
    "print(\"Prob Away Bookie: \" +str(np.round(Bookie_away_win * 100)))"
   ]
  }
 ],
 "metadata": {
  "kernelspec": {
   "display_name": "Python 3",
   "language": "python",
   "name": "python3"
  },
  "language_info": {
   "codemirror_mode": {
    "name": "ipython",
    "version": 3
   },
   "file_extension": ".py",
   "mimetype": "text/x-python",
   "name": "python",
   "nbconvert_exporter": "python",
   "pygments_lexer": "ipython3",
   "version": "3.10.10"
  },
  "orig_nbformat": 4,
  "vscode": {
   "interpreter": {
    "hash": "66eba28a75a64fbe1a9b9c30d27f7c856726c51cbbef86297708eae4ce175db0"
   }
  }
 },
 "nbformat": 4,
 "nbformat_minor": 2
}
